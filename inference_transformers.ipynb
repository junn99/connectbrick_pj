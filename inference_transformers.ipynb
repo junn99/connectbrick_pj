{
 "cells": [
  {
   "cell_type": "code",
   "execution_count": 1,
   "metadata": {},
   "outputs": [
    {
     "name": "stderr",
     "output_type": "stream",
     "text": [
      "/home/user/yes/envs/fastcampus/lib/python3.11/site-packages/tqdm/auto.py:21: TqdmWarning: IProgress not found. Please update jupyter and ipywidgets. See https://ipywidgets.readthedocs.io/en/stable/user_install.html\n",
      "  from .autonotebook import tqdm as notebook_tqdm\n"
     ]
    }
   ],
   "source": [
    "from transformers import AutoTokenizer, AutoModelForCausalLM\n",
    "import torch\n",
    "import os\n"
   ]
  },
  {
   "cell_type": "code",
   "execution_count": 2,
   "metadata": {},
   "outputs": [
    {
     "name": "stderr",
     "output_type": "stream",
     "text": [
      "Loading checkpoint shards: 100%|██████████| 4/4 [00:12<00:00,  3.14s/it]\n"
     ]
    }
   ],
   "source": [
    "tokenizer = AutoTokenizer.from_pretrained(\"google/gemma-2-9b-it\")\n",
    "model = AutoModelForCausalLM.from_pretrained(\"google/gemma-2-9b-it\", device_map=\"auto\")\n",
    "\n",
    "model.eval()\n",
    "\n",
    "model.generation_config.max_new_tokens = 2048\n"
   ]
  },
  {
   "cell_type": "code",
   "execution_count": 3,
   "metadata": {},
   "outputs": [],
   "source": [
    "input_text='what is your name?'\n",
    "\n",
    "input_ids= tokenizer(input_text,return_tensors='pt').to('cuda')"
   ]
  },
  {
   "cell_type": "code",
   "execution_count": 4,
   "metadata": {},
   "outputs": [
    {
     "data": {
      "text/plain": [
       "{'input_ids': tensor([[     2,   5049,    603,    861,   1503, 235336]], device='cuda:0'), 'attention_mask': tensor([[1, 1, 1, 1, 1, 1]], device='cuda:0')}"
      ]
     },
     "execution_count": 4,
     "metadata": {},
     "output_type": "execute_result"
    }
   ],
   "source": [
    "input_ids"
   ]
  },
  {
   "cell_type": "code",
   "execution_count": 5,
   "metadata": {},
   "outputs": [
    {
     "name": "stderr",
     "output_type": "stream",
     "text": [
      "The 'max_batch_size' argument of HybridCache is deprecated and will be removed in v4.46. Use the more precisely named 'batch_size' argument instead.\n",
      "Starting from v4.46, the `logits` model output will have the same type as the model (except at train time, where it will always be FP32)\n"
     ]
    }
   ],
   "source": [
    "outputs=model.generate(**input_ids)"
   ]
  },
  {
   "cell_type": "code",
   "execution_count": 6,
   "metadata": {},
   "outputs": [
    {
     "data": {
      "text/plain": [
       "tensor([[     2,   5049,    603,    861,   1503, 235336,    109,   2926,   1503,\n",
       "            603, 137061, 235265,    590,   1144,    671,   2174, 235290,  30316,\n",
       "          16481,  20409, 235265,    107,    108,      1]], device='cuda:0')"
      ]
     },
     "execution_count": 6,
     "metadata": {},
     "output_type": "execute_result"
    }
   ],
   "source": [
    "outputs"
   ]
  },
  {
   "cell_type": "code",
   "execution_count": 10,
   "metadata": {},
   "outputs": [
    {
     "name": "stdout",
     "output_type": "stream",
     "text": [
      "My name is Gemma. I am an open-weights AI assistant.\n",
      "\n"
     ]
    }
   ],
   "source": [
    "print(tokenizer.batch_decode(outputs,skip_special_tokens=True)[0][len(input_text):].lstrip())"
   ]
  },
  {
   "cell_type": "code",
   "execution_count": 11,
   "metadata": {},
   "outputs": [],
   "source": [
    "input_text='안녕하세요!'\n",
    "input_ids = tokenizer(input_text, return_tensors='pt').to('cuda')"
   ]
  },
  {
   "cell_type": "code",
   "execution_count": 13,
   "metadata": {},
   "outputs": [
    {
     "data": {
      "text/plain": [
       "tensor([[     2, 238179, 243415, 204551, 235341]], device='cuda:0')"
      ]
     },
     "execution_count": 13,
     "metadata": {},
     "output_type": "execute_result"
    }
   ],
   "source": [
    "input_ids.input_ids"
   ]
  },
  {
   "cell_type": "code",
   "execution_count": 16,
   "metadata": {},
   "outputs": [],
   "source": [
    "outputs= model.generate(\n",
    "    input_ids=input_ids.input_ids,\n",
    "    return_dict_in_generate=True,\n",
    "    output_scores=True\n",
    ")"
   ]
  },
  {
   "cell_type": "code",
   "execution_count": 17,
   "metadata": {},
   "outputs": [],
   "source": [
    "logits = outputs.scores"
   ]
  },
  {
   "cell_type": "code",
   "execution_count": 39,
   "metadata": {},
   "outputs": [
    {
     "data": {
      "text/plain": [
       "414"
      ]
     },
     "execution_count": 39,
     "metadata": {},
     "output_type": "execute_result"
    }
   ],
   "source": [
    "len(logits)"
   ]
  },
  {
   "cell_type": "code",
   "execution_count": 21,
   "metadata": {},
   "outputs": [
    {
     "data": {
      "text/plain": [
       "256000"
      ]
     },
     "execution_count": 21,
     "metadata": {},
     "output_type": "execute_result"
    }
   ],
   "source": [
    "len(logits[0][0])"
   ]
  },
  {
   "cell_type": "code",
   "execution_count": 48,
   "metadata": {},
   "outputs": [],
   "source": [
    "one_logits=logits[14][0]"
   ]
  },
  {
   "cell_type": "code",
   "execution_count": 49,
   "metadata": {},
   "outputs": [
    {
     "data": {
      "text/plain": [
       "tensor([-3.4900,  5.5700, 10.5176,  ...,  9.0562,  4.2493, -3.1589],\n",
       "       device='cuda:0')"
      ]
     },
     "execution_count": 49,
     "metadata": {},
     "output_type": "execute_result"
    }
   ],
   "source": [
    "one_logits"
   ]
  },
  {
   "cell_type": "code",
   "execution_count": 50,
   "metadata": {},
   "outputs": [],
   "source": [
    "predict_id=torch.argmax(one_logits).item()"
   ]
  },
  {
   "cell_type": "code",
   "execution_count": 51,
   "metadata": {},
   "outputs": [
    {
     "data": {
      "text/plain": [
       "242860"
      ]
     },
     "execution_count": 51,
     "metadata": {},
     "output_type": "execute_result"
    }
   ],
   "source": [
    "predict_id"
   ]
  },
  {
   "cell_type": "code",
   "execution_count": 52,
   "metadata": {},
   "outputs": [
    {
     "data": {
      "text/plain": [
       "'옷'"
      ]
     },
     "execution_count": 52,
     "metadata": {},
     "output_type": "execute_result"
    }
   ],
   "source": [
    "tokenizer.decode([predict_id])"
   ]
  },
  {
   "cell_type": "code",
   "execution_count": 43,
   "metadata": {},
   "outputs": [
    {
     "data": {
      "text/plain": [
       "419"
      ]
     },
     "execution_count": 43,
     "metadata": {},
     "output_type": "execute_result"
    }
   ],
   "source": [
    "len(outputs.sequences[0])"
   ]
  },
  {
   "cell_type": "code",
   "execution_count": 45,
   "metadata": {},
   "outputs": [
    {
     "data": {
      "text/plain": [
       "5"
      ]
     },
     "execution_count": 45,
     "metadata": {},
     "output_type": "execute_result"
    }
   ],
   "source": [
    "len(input_ids.input_ids[0])"
   ]
  },
  {
   "cell_type": "code",
   "execution_count": 47,
   "metadata": {},
   "outputs": [
    {
     "name": "stdout",
     "output_type": "stream",
     "text": [
      "안녕하세요! \n",
      "\n",
      "오늘은 \n",
      "\n",
      "**\"내가 좋아하는 옷 스타일\"**\n",
      "\n",
      "에 대해 이야기해보려고 합니다. \n",
      "\n",
      "저는 옷을 통해 자신감을 표현하고 싶어하는 편이에요. \n",
      "\n",
      "따라서 옷 스타일은 \n",
      "\n",
      "**\"개성\"**\n",
      "\n",
      "과 \n",
      "\n",
      "**\"편안함\"**\n",
      "\n",
      "을 동시에 추구하는 것을 좋아합니다. \n",
      "\n",
      "특히 \n",
      "\n",
      "**\"미니멀리즘\"**\n",
      "\n",
      "과 \n",
      "\n",
      "**\"보헤미안\"**\n",
      "\n",
      " 스타일을 섞어 입는 것을 좋아해요. \n",
      "\n",
      "깔끔하고 심플한 디자인의 옷에 \n",
      "\n",
      "부드러운 소재와 \n",
      "\n",
      "자연스러운 패턴을 더하여 \n",
      "\n",
      "자신만의 독특한 스타일을 완성하는 거죠. \n",
      "\n",
      "예를 들어, \n",
      "\n",
      "* **흰색 면 티셔츠에 \n",
      "\n",
      "  자수가 있는 \n",
      "\n",
      "  보헤미안 스타일의 스커트를 매치**\n",
      "\n",
      "하거나, \n",
      "\n",
      "* **검정색 슬랙스에 \n",
      "\n",
      "  레이스 소재의 블라우스를 \n",
      "\n",
      "  입는 것**\n",
      "\n",
      "도 좋아요. \n",
      "\n",
      "액세서리로는 \n",
      "\n",
      "**\"진주\"**\n",
      "\n",
      "나 \n",
      "\n",
      "**\"나뭇잎\"**\n",
      "\n",
      "모양의 \n",
      "\n",
      "액세서리를 활용하여 \n",
      "\n",
      "자연스러운 분위기를 더하는 것도 \n",
      "\n",
      "좋아합니다. \n",
      "\n",
      "옷을 입는 것은 단순히 몸을 감싸는 것이 아니라 \n",
      "\n",
      "자신을 표현하고 \n",
      "\n",
      "세상과 소통하는 \n",
      "\n",
      "매력적인 방법이라고 생각해요. \n",
      "\n",
      "혹시 \n",
      "\n",
      "**\"내가 좋아하는 옷 스타일\"**\n",
      "\n",
      "에 대해 궁금하신 점이 있다면 \n",
      "\n",
      "댓글로 남겨주세요! \n",
      "\n",
      "감사합니다!\n",
      "\n"
     ]
    }
   ],
   "source": [
    "print(tokenizer.batch_decode(outputs.sequences,skip_special_tokens=True)[0])"
   ]
  },
  {
   "cell_type": "code",
   "execution_count": 65,
   "metadata": {},
   "outputs": [],
   "source": [
    "input_text='세종대왕이 어느나라 사람이니?'\n",
    "input_ids=tokenizer(input_text,return_tensors='pt').to('cuda')"
   ]
  },
  {
   "cell_type": "code",
   "execution_count": 74,
   "metadata": {},
   "outputs": [],
   "source": [
    "outputs=model.generate(input_ids=input_ids.input_ids,\n",
    "                       return_dict_in_generate=True,\n",
    "                       output_scores=True,\n",
    "                       temperature=0.05,\n",
    "                       top_k=10,\n",
    "                       top_p= 0.9,\n",
    "                       do_sample=True\n",
    "                       )"
   ]
  },
  {
   "cell_type": "code",
   "execution_count": 75,
   "metadata": {},
   "outputs": [
    {
     "name": "stdout",
     "output_type": "stream",
     "text": [
      "세종대왕이 어느나라 사람이니?\n",
      "\n",
      "세종대왕은 **조선** 사람입니다. \n",
      "\n",
      "세종대왕은 고려의 마지막 왕인 태조 이성계의 후손으로, 조선의 4대 왕입니다. \n",
      "\n"
     ]
    }
   ],
   "source": [
    "print(tokenizer.batch_decode(outputs.sequences,skip_special_tokens=True)[0])"
   ]
  },
  {
   "cell_type": "code",
   "execution_count": null,
   "metadata": {},
   "outputs": [],
   "source": []
  },
  {
   "cell_type": "code",
   "execution_count": 86,
   "metadata": {},
   "outputs": [],
   "source": [
    "from transformers import pipeline\n"
   ]
  },
  {
   "cell_type": "code",
   "execution_count": 87,
   "metadata": {},
   "outputs": [],
   "source": [
    "pipe=pipeline(model=model, task='text-generation',tokenizer=tokenizer)"
   ]
  },
  {
   "cell_type": "code",
   "execution_count": 88,
   "metadata": {},
   "outputs": [],
   "source": [
    "input_text='대한민국의 수도는 어디인가요?'"
   ]
  },
  {
   "cell_type": "code",
   "execution_count": 91,
   "metadata": {},
   "outputs": [],
   "source": [
    "result=pipe(input_text)"
   ]
  },
  {
   "cell_type": "code",
   "execution_count": 96,
   "metadata": {},
   "outputs": [
    {
     "name": "stdout",
     "output_type": "stream",
     "text": [
      "정답은 **서울**입니다. \n",
      "\n",
      "\n",
      "\n"
     ]
    }
   ],
   "source": [
    "print(result[0]['generated_text'][len(input_text):].lstrip())"
   ]
  },
  {
   "cell_type": "code",
   "execution_count": null,
   "metadata": {},
   "outputs": [],
   "source": []
  }
 ],
 "metadata": {
  "kernelspec": {
   "display_name": "fastcampus",
   "language": "python",
   "name": "python3"
  },
  "language_info": {
   "codemirror_mode": {
    "name": "ipython",
    "version": 3
   },
   "file_extension": ".py",
   "mimetype": "text/x-python",
   "name": "python",
   "nbconvert_exporter": "python",
   "pygments_lexer": "ipython3",
   "version": "3.11.9"
  }
 },
 "nbformat": 4,
 "nbformat_minor": 2
}
