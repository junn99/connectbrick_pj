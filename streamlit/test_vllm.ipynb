{
 "cells": [
  {
   "cell_type": "code",
   "execution_count": 1,
   "metadata": {},
   "outputs": [
    {
     "name": "stdout",
     "output_type": "stream",
     "text": [
      "응답: {'text': ['안녕하세요, 오늘의 날씨는?<|end_of_text|>아오 홧팅,<|end_of_text|>심영이 생명표지가 너무긴거 아닌가요<|end_of_text|>중앙정부가 이처럼 소극 대응으로 일관하면서 정부와 지방자치단체가 신천']}\n"
     ]
    }
   ],
   "source": [
    "import requests\n",
    "\n",
    "url = \"http://localhost:8000/generate\"\n",
    "payload = {\n",
    "    \"prompt\": \"안녕하세요, 오늘의 날씨는?\",\n",
    "    \"max_tokens\": 50\n",
    "}\n",
    "\n",
    "response = requests.post(url, json=payload)\n",
    "if response.status_code == 200:\n",
    "    print(\"응답:\", response.json())\n",
    "else:\n",
    "    print(\"에러:\", response.status_code, response.text)\n"
   ]
  },
  {
   "cell_type": "code",
   "execution_count": 7,
   "metadata": {},
   "outputs": [],
   "source": [
    "import requests\n",
    "import json\n",
    "from transformers import AutoTokenizer\n",
    "\n",
    "# huggingface 모델에서 토크나이저를 가져옴\n",
    "tokenizer = AutoTokenizer.from_pretrained(\"beomi/Llama-3-Open-Ko-8B\")\n",
    "\n",
    "prompt = \"밥 먹엇어?\"\n",
    "messages = [\n",
    "    {\"role\": \"system\", \"content\": \"당신은 질문에 친근하게 답변하는 애인입니다.\"},\n",
    "    {\"role\": \"user\", \"content\":prompt}\n",
    "]\n",
    "\n",
    "# 토크나이저에서 지원해주는 채팅 템플릿 사용\n",
    "text = tokenizer.apply_chat_template(\n",
    "    messages,\n",
    "    tokenize=False,\n",
    "    add_generation_prompt=True\n",
    ")\n"
   ]
  },
  {
   "cell_type": "code",
   "execution_count": 8,
   "metadata": {},
   "outputs": [
    {
     "data": {
      "text/plain": [
       "'<|begin_of_text|><|start_header_id|>system<|end_header_id|>\\n\\n당신은 질문에 친근하게 답변하는 애인입니다.<|eot_id|><|start_header_id|>user<|end_header_id|>\\n\\n밥 먹엇어?<|eot_id|><|start_header_id|>assistant<|end_header_id|>\\n\\n'"
      ]
     },
     "execution_count": 8,
     "metadata": {},
     "output_type": "execute_result"
    }
   ],
   "source": [
    "text"
   ]
  },
  {
   "cell_type": "code",
   "execution_count": 10,
   "metadata": {},
   "outputs": [],
   "source": [
    "vllm_host = \"http://localhost:8000\"\n",
    "url = f\"{vllm_host}/generate\"\n",
    "# vLLM으로 서빙되고 있는 모델 호출\n",
    "headers = {\"Content-Type\": \"application/json\"}\n",
    "data = {\n",
    "    \"prompt\": text,\n",
    "    \"max_tokens\": 512,\n",
    "    \"temperature\": 0\n",
    "}\n",
    "\n",
    "response = requests.post(url, headers=headers, data=json.dumps(data))"
   ]
  },
  {
   "cell_type": "code",
   "execution_count": 11,
   "metadata": {},
   "outputs": [
    {
     "data": {
      "text/plain": [
       "<Response [200]>"
      ]
     },
     "execution_count": 11,
     "metadata": {},
     "output_type": "execute_result"
    }
   ],
   "source": [
    "response"
   ]
  },
  {
   "cell_type": "code",
   "execution_count": 12,
   "metadata": {},
   "outputs": [
    {
     "data": {
      "text/plain": [
       "{'text': ['<|begin_of_text|><|start_header_id|>system<|end_header_id|>\\n\\n당신은 질문에 친근하게 답변하는 애인입니다.<|eot_id|><|start_header_id|>user<|end_header_id|>\\n\\n밥 먹엇어?<|eot_id|><|start_header_id|>assistant<|end_header_id|>\\n\\n아니요. 아직 안 먹었어요.<|end_of_text|>\\n이\\n \\n방\\n법\\n은\\n \\n전\\n기\\n를\\n \\n사\\n용\\n하\\n지\\n \\n않\\n고\\n \\n물\\n을\\n \\n이\\n용\\n하\\n여\\n \\n물\\n을\\n \\n순\\n환\\n시\\n키\\n는\\n \\n방\\n법\\n이\\n다\\n.<|end_of_text|>\\n이번엔 ‘이재명 지키기’다. 이재명 경기지사가 4일 대법원에서 무죄 확정 판결을 받자 여권은 일제히 환호했다. 이 지사는 이날 페이스북에 “이제는 경기도민과 도정에 집중하겠다”고 밝혔다. 이 지사는 지난해 12월 16일 대법원에 상고한 지 6개월 만에 무죄 확정 판결을 받았다. 이 지사는 2012년 성남시장 재직 시절 성남시 분당구 대장동 개발사업과 관련해 업체 대표로부터 1억3000만원을 받은 혐의로 기소됐다. 1심은 이 지사에게 징역 10개월에 집행유예 2년을 선고했다. 2심은 이 지사에게 무죄를 선고했다. 대법원은 2심 판결을 그대로 확정했다. 대법원은 “이 지사가 받은 돈은 정치자금법상 정치자금에 해당하지 않는다”고 판단했다. 이 지사는 2018년 지방선거에서 당선된 뒤 대장동 개발사업을 성사시켰다. 이 지사는 대장동 개발사업을 통해 1조원에 가까운 이익을 얻었다. 이 지사는 이익금을 성남시민에게 환원하겠다고 공약했다. 이 지사는 대장동 개발사업을 통해 얻은 이익금을 성남시민에게 환원하겠다고 공약했다. 이 지사는 대장동 개발사업을 통해 얻은 이익금을 성남시민에게 환원하겠다고 공약했다. 이 지사는 대장동 개발사업을 통해 얻은 이익금을 성남시민에게 환원하겠다고 공약했다. 이 지사는 대장동 개발사업을 통해 얻은 이익금을 성남시민에게 환원하겠다고 공']}"
      ]
     },
     "execution_count": 12,
     "metadata": {},
     "output_type": "execute_result"
    }
   ],
   "source": [
    "response.json()"
   ]
  },
  {
   "cell_type": "code",
   "execution_count": null,
   "metadata": {},
   "outputs": [],
   "source": []
  }
 ],
 "metadata": {
  "kernelspec": {
   "display_name": "single",
   "language": "python",
   "name": "python3"
  },
  "language_info": {
   "codemirror_mode": {
    "name": "ipython",
    "version": 3
   },
   "file_extension": ".py",
   "mimetype": "text/x-python",
   "name": "python",
   "nbconvert_exporter": "python",
   "pygments_lexer": "ipython3",
   "version": "3.10.15"
  }
 },
 "nbformat": 4,
 "nbformat_minor": 2
}
